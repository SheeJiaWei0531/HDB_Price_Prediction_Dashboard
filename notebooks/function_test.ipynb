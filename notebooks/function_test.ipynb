{
 "cells": [
  {
   "cell_type": "code",
   "execution_count": 3,
   "metadata": {},
   "outputs": [],
   "source": [
    "from HDB.logic.processor import raw_data_process,preprocessor\n",
    "import pandas as pd\n",
    "import os,pickle"
   ]
  },
  {
   "cell_type": "code",
   "execution_count": 4,
   "metadata": {},
   "outputs": [
    {
     "data": {
      "text/plain": [
       "{'month': [Timestamp('2013-07-06 00:00:00-0700', tz='US/Pacific')],\n",
       " 'town': ['CHOA CHU KANG'],\n",
       " 'flat_type': ['5 ROOM'],\n",
       " 'storey_range': ['10'],\n",
       " 'floor_area_sqm': [100],\n",
       " 'flat_model': ['Improved'],\n",
       " 'remaining_lease': ['94 years 6 months']}"
      ]
     },
     "execution_count": 4,
     "metadata": {},
     "output_type": "execute_result"
    }
   ],
   "source": [
    "month=  \"2013-07-06\"\n",
    "town=  \"CHOA CHU KANG\"\n",
    "flat_type= \"5 ROOM\"\n",
    "storey= \"10\"\n",
    "floor_area_sqm= 100\n",
    "flat_model= 'Improved'\n",
    "remaining_lease_year= 94\n",
    "remaining_lease_month= 6\n",
    "data_input={'month':[pd.Timestamp(month, tz='US/Pacific')],\n",
    "    'town': [town],\n",
    "    'flat_type': [flat_type],\n",
    "    'storey_range':[storey],\n",
    "    'floor_area_sqm': [floor_area_sqm],\n",
    "    'flat_model': [flat_model],\n",
    "    'remaining_lease': [f'{remaining_lease_year} years {remaining_lease_month} months']}\n",
    "\n",
    "data_input\n"
   ]
  },
  {
   "cell_type": "code",
   "execution_count": 7,
   "metadata": {},
   "outputs": [
    {
     "data": {
      "text/plain": [
       "month                  datetime64[ns, US/Pacific]\n",
       "town                                       object\n",
       "flat_type                                  object\n",
       "block                                      object\n",
       "street_name                                object\n",
       "storey_range                               object\n",
       "floor_area_sqm                             object\n",
       "flat_model                                 object\n",
       "lease_commence_date                        object\n",
       "remaining_lease                            object\n",
       "resale_price                               object\n",
       "dtype: object"
      ]
     },
     "execution_count": 7,
     "metadata": {},
     "output_type": "execute_result"
    }
   ],
   "source": [
    "data_df=pd.DataFrame(data_input)\n",
    "input_feature=['month', 'town', 'flat_type', 'storey_range', 'floor_area_sqm','flat_model', 'remaining_lease']\n",
    "original_feature=['month', 'town', 'flat_type', 'block', 'street_name', 'storey_range', 'floor_area_sqm', 'flat_model', 'lease_commence_date','remaining_lease','resale_price']\n",
    "input_df=pd.DataFrame(columns=original_feature)\n",
    "for i in original_feature:\n",
    "    for j in input_feature:\n",
    "        if i==j:\n",
    "            input_df.loc[0,i]=data_df.loc[0,j]\n",
    "input_df['month']=pd.to_datetime(input_df['month'])\n",
    "\n",
    "input_df.dtypes"
   ]
  },
  {
   "cell_type": "code",
   "execution_count": 8,
   "metadata": {},
   "outputs": [],
   "source": [
    "X,y=raw_data_process(input_df)"
   ]
  },
  {
   "cell_type": "code",
   "execution_count": 9,
   "metadata": {},
   "outputs": [],
   "source": [
    "X=preprocessor(X)"
   ]
  },
  {
   "cell_type": "code",
   "execution_count": 10,
   "metadata": {},
   "outputs": [
    {
     "data": {
      "text/plain": [
       "(1, 60)"
      ]
     },
     "execution_count": 10,
     "metadata": {},
     "output_type": "execute_result"
    }
   ],
   "source": [
    "X.shape"
   ]
  },
  {
   "cell_type": "code",
   "execution_count": 11,
   "metadata": {},
   "outputs": [],
   "source": [
    "# Specify the path to the pickle file\n",
    "\n",
    "\n",
    "# Open the pickle file in binary read mode ('rb')\n",
    "with open('../notebooks/model_lgbm.pickle', 'rb') as file:\n",
    "    # Load the data from the pickle file\n",
    "    model = pickle.load(file)"
   ]
  },
  {
   "cell_type": "code",
   "execution_count": 12,
   "metadata": {},
   "outputs": [
    {
     "data": {
      "text/plain": [
       "array([458944.14018492])"
      ]
     },
     "execution_count": 12,
     "metadata": {},
     "output_type": "execute_result"
    }
   ],
   "source": [
    "ypred=model.predict(X)\n",
    "ypred"
   ]
  }
 ],
 "metadata": {
  "kernelspec": {
   "display_name": "lewagon",
   "language": "python",
   "name": "python3"
  },
  "language_info": {
   "codemirror_mode": {
    "name": "ipython",
    "version": 3
   },
   "file_extension": ".py",
   "mimetype": "text/x-python",
   "name": "python",
   "nbconvert_exporter": "python",
   "pygments_lexer": "ipython3",
   "version": "3.10.6"
  },
  "orig_nbformat": 4
 },
 "nbformat": 4,
 "nbformat_minor": 2
}
