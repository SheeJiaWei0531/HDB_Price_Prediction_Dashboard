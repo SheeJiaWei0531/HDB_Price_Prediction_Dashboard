{
 "cells": [
  {
   "cell_type": "code",
   "execution_count": null,
   "metadata": {},
   "outputs": [],
   "source": [
    "import pydeck as pdk\n",
    "import pandas as pd\n",
    "import matplotlib.pyplot as plt\n",
    "import seaborn as sns\n",
    "from scipy.stats import percentileofscore\n",
    "import streamlit as st"
   ]
  },
  {
   "cell_type": "code",
   "execution_count": null,
   "metadata": {},
   "outputs": [],
   "source": [
    "town= \"ANG MO KIO\"\n",
    "flat_type= \"4 ROOM\"\n",
    "estimated_price = 500000"
   ]
  },
  {
   "cell_type": "code",
   "execution_count": null,
   "metadata": {},
   "outputs": [],
   "source": [
    "df=pd.read_csv(\"../raw_data/resale-flat-prices-based-on-registration-date-from-jan-2017-onwards.csv\")\n",
    "df=df[df[\"year\"]>=2021]"
   ]
  },
  {
   "cell_type": "code",
   "execution_count": null,
   "metadata": {},
   "outputs": [],
   "source": [
    "def boxplot(town,flat_type,estimated_price):\n",
    "    plt.figure(figsize=(12, 8))  # Adjust the size of the plot as needed\n",
    "    custom_palette =[\"#1f77b4\", \"#ff7f0e\", \"#2ca02c\", \"#d62728\", \"#9467bd\", \"#8c564b\", \"#e377c2\", \"#7f7f7f\", \"#bcbd22\", \"#17becf\"]\n",
    "    town_order_midian_price=df[df['flat_type'] == f\"{flat_type}\"].groupby(\"town\")['resale_price'].median().sort_values().index\n",
    "    ax = sns.boxplot(data=df[df['flat_type'] == f\"{flat_type}\"], x='town', y=\"resale_price\", palette=custom_palette,order=town_order_midian_price )\n",
    "    plt.title(f\"Distribution of Resale Prices for {flat_type} Flats by Town\", fontsize=18)\n",
    "    plt.xlabel(\"Town\", fontsize=14)\n",
    "    plt.ylabel(\"Resale Price\", fontsize=14)\n",
    "    ax.set_xticklabels(ax.get_xticklabels(), rotation=45, horizontalalignment='right')\n",
    "    plt.grid(True, axis='y', linestyle='--', alpha=0.7)\n",
    "\n",
    "    # Add a background color to the plot\n",
    "    plt.gca().set_facecolor('#f5f5f5')\n",
    "\n",
    "    # Add a margin at the top of the plot to prevent the title from being cut off\n",
    "    plt.tight_layout()\n",
    "    plt.axhline(y=estimated_price, color='red', linestyle='dashed', label=f'Prediction Price: $ {estimated_price}')\n",
    "    plt.legend() \n",
    "    # Show the plot\n",
    "    plt.show()\n",
    "\n",
    "\n",
    "    percentile = round(percentileofscore(df[df['flat_type'] == f\"{flat_type}\"][\"resale_price\"], estimated_price),2)\n",
    "    \n",
    "    return f\"Your estimated flat price, $ {estimated_price} is at {percentile} percentile among all the {flat_type} in Singapore\"\n",
    "\n",
    "\n",
    "\n"
   ]
  },
  {
   "cell_type": "code",
   "execution_count": null,
   "metadata": {},
   "outputs": [],
   "source": [
    "boxplot(town,flat_type,estimated_price)"
   ]
  },
  {
   "cell_type": "code",
   "execution_count": null,
   "metadata": {},
   "outputs": [],
   "source": [
    "def histogram(town,flat_type,estimated_price):\n",
    "    sns.histplot(data=df[df['flat_type']==f\"{flat_type}\"][df['town']==f\"{town}\"],x=\"resale_price\",bins=30, kde=True, color='skyblue')\n",
    "    plt.axvline(x= estimated_price, color='red', linestyle='dashed', label='Predicted price')\n",
    "    plt.legend()\n",
    "    plt.xlabel(\"Resale Price\")\n",
    "    plt.ylabel(\"Frequency\")\n",
    "    plt.title(f\"Histogram of Resale Prices for {flat_type} Flats in {town}\")\n",
    "    percentile = round(percentileofscore(df[df['flat_type']==f\"{flat_type}\"][df['town']==f\"{town}\"][\"resale_price\"], estimated_price),2)\n",
    "    plt.show()\n",
    "    return f\"Your estimated flat price, $ {estimated_price} is at {percentile} percentile among all the {flat_type} in {town}\"\n"
   ]
  },
  {
   "cell_type": "code",
   "execution_count": null,
   "metadata": {},
   "outputs": [],
   "source": [
    "histogram(town,flat_type,estimated_price)"
   ]
  },
  {
   "cell_type": "code",
   "execution_count": null,
   "metadata": {},
   "outputs": [],
   "source": [
    "map_df=df.groupby('Address').agg(remaining_lease= (\"remaining_lease\", \"first\"),town=(\"town\", \"first\"),block=(\"block\", \"first\"),Latitute=(\"Latitude\", \"first\"),Longitude=(\"Longitude\", \"first\"),Flat_level=(\"max_floor_lvl\", \"max\"), price_per_sqm=('resale_price', 'sum'), total_area=('floor_area_sqm', 'sum'),).assign(price_per_sqm=lambda x: x['price_per_sqm'] / x['total_area']).drop('total_area', axis=1).reset_index()"
   ]
  },
  {
   "cell_type": "code",
   "execution_count": null,
   "metadata": {},
   "outputs": [],
   "source": [
    "map_df"
   ]
  },
  {
   "cell_type": "code",
   "execution_count": null,
   "metadata": {},
   "outputs": [],
   "source": [
    "map_df['Flat_level'].max()"
   ]
  },
  {
   "cell_type": "code",
   "execution_count": null,
   "metadata": {},
   "outputs": [],
   "source": [
    "data = map_df\n",
    "data['color_scale'] = data['price_per_sqm'].apply(lambda x: [int(x)*255/(data['price_per_sqm'].max()),0, 250,150])\n",
    "INITIAL_VIEW_STATE = pdk.ViewState(\n",
    "  latitude=1.295002,\n",
    "  longitude=103.810635,\n",
    "  zoom=11,\n",
    "  max_zoom=16,\n",
    "  pitch=45,\n",
    "  bearing=0\n",
    ")\n",
    "\n",
    "scatter_layer= pdk.Layer(\n",
    "    \"ScatterplotLayer\",\n",
    "    data,\n",
    "    pickable=True,\n",
    "    opacity=0.5,\n",
    "    stroked=True,\n",
    "    filled=True,\n",
    "    radius_scale=5,\n",
    "    radius_min_pixels=5,\n",
    "    radius_max_pixels=50,\n",
    "    line_width_min_pixels=1,\n",
    "    get_position=['Longitude','Latitute'],\n",
    "    get_line_color=[0, 0, 0],\n",
    "    get_fill_color=\"color_scale\"\n",
    ")\n",
    "column_layer = pdk.Layer(\n",
    "    \"ColumnLayer\",\n",
    "    data,\n",
    "    get_position=['Longitude','Latitute'],\n",
    "    get_elevation=\"Flat_level\",\n",
    "    elevation_scale=100,\n",
    "    radius=25,\n",
    "    get_fill_color=\"color_scale\",\n",
    "    pickable=True,\n",
    "    auto_highlight=True,\n",
    ")\n",
    "\n",
    "\n",
    "r = pdk.Deck(\n",
    "    map_style='road',\n",
    "    layers=[scatter_layer,column_layer],\n",
    "    initial_view_state=INITIAL_VIEW_STATE)\n",
    "\n",
    "r.to_html()"
   ]
  }
 ],
 "metadata": {
  "kernelspec": {
   "display_name": "lewagon",
   "language": "python",
   "name": "python3"
  },
  "language_info": {
   "codemirror_mode": {
    "name": "ipython",
    "version": 3
   },
   "file_extension": ".py",
   "mimetype": "text/x-python",
   "name": "python",
   "nbconvert_exporter": "python",
   "pygments_lexer": "ipython3",
   "version": "3.10.6"
  },
  "orig_nbformat": 4
 },
 "nbformat": 4,
 "nbformat_minor": 2
}
